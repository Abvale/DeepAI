{
  "nbformat": 4,
  "nbformat_minor": 0,
  "metadata": {
    "colab": {
      "name": "Kaggle_2_digits_with_ensembling.ipynb",
      "provenance": [],
      "collapsed_sections": [],
      "authorship_tag": "ABX9TyPxgMvBOBDMrKgszRvlJo1g",
      "include_colab_link": true
    },
    "kernelspec": {
      "name": "python3",
      "display_name": "Python 3"
    },
    "language_info": {
      "name": "python"
    },
    "accelerator": "GPU"
  },
  "cells": [
    {
      "cell_type": "markdown",
      "metadata": {
        "id": "view-in-github",
        "colab_type": "text"
      },
      "source": [
        "<a href=\"https://colab.research.google.com/github/Abvale/DeepAI/blob/main/Kaggle_2_digits_with_ensembling.ipynb\" target=\"_parent\"><img src=\"https://colab.research.google.com/assets/colab-badge.svg\" alt=\"Open In Colab\"/></a>"
      ]
    },
    {
      "cell_type": "code",
      "execution_count": null,
      "metadata": {
        "id": "FM2121jQe9UV"
      },
      "outputs": [],
      "source": [
        "import tensorflow as tf\n",
        "import numpy as np\n",
        "import pandas as pd"
      ]
    },
    {
      "cell_type": "code",
      "source": [
        "!unzip train.csv.zip\n",
        "!unzip test.csv.zip"
      ],
      "metadata": {
        "colab": {
          "base_uri": "https://localhost:8080/"
        },
        "id": "c5oVrSR7fL3N",
        "outputId": "a4f5cdbb-f15a-45fa-9546-0942e4258e52"
      },
      "execution_count": null,
      "outputs": [
        {
          "output_type": "stream",
          "name": "stdout",
          "text": [
            "Archive:  train.csv.zip\n",
            "  inflating: train.csv               \n",
            "Archive:  test.csv.zip\n",
            "  inflating: test.csv                \n"
          ]
        }
      ]
    },
    {
      "cell_type": "code",
      "source": [
        "train_dataset = pd.read_csv('train.csv')\n",
        "test_dataset = pd.read_csv('test.csv')"
      ],
      "metadata": {
        "id": "sDI32RrlfT3e"
      },
      "execution_count": null,
      "outputs": []
    },
    {
      "cell_type": "code",
      "source": [
        "test_labels=train_dataset['label']\n",
        "del train_dataset['label']\n",
        "train_labels=train_dataset"
      ],
      "metadata": {
        "id": "Mww5Dsm2fhI5"
      },
      "execution_count": null,
      "outputs": []
    },
    {
      "cell_type": "code",
      "source": [
        "train_labels =  train_labels/255\n",
        "test_set = test_dataset/255"
      ],
      "metadata": {
        "id": "TvMSrrOKfiv0"
      },
      "execution_count": null,
      "outputs": []
    },
    {
      "cell_type": "code",
      "source": [
        "test_labels = tf.keras.utils.to_categorical(test_labels, 10)"
      ],
      "metadata": {
        "id": "Cz6xWwE9fsAj"
      },
      "execution_count": null,
      "outputs": []
    },
    {
      "cell_type": "code",
      "source": [
        "model1=tf.keras.models.Sequential(\n",
        "    [\n",
        "     tf.keras.layers.Reshape(input_shape=(784,), target_shape=(28, 28,1)),\n",
        "     tf.keras.layers.Conv2D(128, (3,3),padding='same', activation='relu', input_shape=(28, 28, 1)),\n",
        "     tf.keras.layers.MaxPooling2D(2, 2),\n",
        "     tf.keras.layers.Dropout(0.2),\n",
        "     tf.keras.layers.Conv2D(256, (3,3),padding='same', activation='relu'),\n",
        "     tf.keras.layers.MaxPooling2D(2, 2),\n",
        "     tf.keras.layers.Dropout(0.2),\n",
        "     tf.keras.layers.Flatten(),\n",
        "     tf.keras.layers.Dense(256, activation='relu'),\n",
        "     tf.keras.layers.Dense(10,'softmax')\n",
        "     ]\n",
        ")"
      ],
      "metadata": {
        "id": "0DtgWDfqf_tO"
      },
      "execution_count": null,
      "outputs": []
    },
    {
      "cell_type": "code",
      "source": [
        "model2=tf.keras.models.Sequential(\n",
        "    [\n",
        "     tf.keras.layers.Reshape(input_shape=(784,), target_shape=(28, 28,1)),\n",
        "     tf.keras.layers.Conv2D(25, (3,3),padding='same', activation='relu', input_shape=(28, 28, 1)),\n",
        "     tf.keras.layers.MaxPooling2D(2, 2),\n",
        "     tf.keras.layers.Dropout(0.2),\n",
        "     tf.keras.layers.Conv2D(50, (3,3),padding='same', activation='relu'),\n",
        "     tf.keras.layers.MaxPooling2D(2, 2),\n",
        "     tf.keras.layers.Dropout(0.2),\n",
        "     tf.keras.layers.Flatten(),\n",
        "     tf.keras.layers.Dense(256, activation='relu'),\n",
        "     tf.keras.layers.Dense(10,'softmax')\n",
        "     ]\n",
        ")"
      ],
      "metadata": {
        "id": "W3iC0Ul0gBLf"
      },
      "execution_count": null,
      "outputs": []
    },
    {
      "cell_type": "code",
      "source": [
        "model3=tf.keras.models.Sequential(\n",
        "    [\n",
        "     tf.keras.layers.Reshape(input_shape=(784,), target_shape=(28, 28,1)),\n",
        "     tf.keras.layers.Conv2D(25, (3,3),padding='same', activation='relu', input_shape=(28, 28, 1)),\n",
        "     tf.keras.layers.MaxPooling2D(2, 2),\n",
        "     tf.keras.layers.Dropout(0.2),\n",
        "     tf.keras.layers.Conv2D(50, (3,3),padding='same', activation='relu'),\n",
        "     tf.keras.layers.MaxPooling2D(2, 2),\n",
        "     tf.keras.layers.Dropout(0.2),\n",
        "     tf.keras.layers.Flatten(),\n",
        "     tf.keras.layers.Dense(128, activation='relu'),\n",
        "     tf.keras.layers.Dense(10,'softmax')\n",
        "     ]\n",
        ")"
      ],
      "metadata": {
        "id": "TWqLxsS7gCPm"
      },
      "execution_count": null,
      "outputs": []
    },
    {
      "cell_type": "code",
      "source": [
        "model4=tf.keras.models.Sequential(\n",
        "    [\n",
        "     tf.keras.layers.Reshape(input_shape=(784,), target_shape=(28, 28,1)),\n",
        "     tf.keras.layers.Conv2D(50, (3,3),padding='same', activation='relu', input_shape=(28, 28, 1)),\n",
        "     tf.keras.layers.MaxPooling2D(2, 2),\n",
        "     tf.keras.layers.Dropout(0.2),\n",
        "     tf.keras.layers.Conv2D(50, (3,3),padding='same', activation='relu'),\n",
        "     tf.keras.layers.MaxPooling2D(2, 2),\n",
        "     tf.keras.layers.Dropout(0.2),\n",
        "     tf.keras.layers.Flatten(),\n",
        "     tf.keras.layers.Dense(128, activation='relu'),\n",
        "     tf.keras.layers.Dense(10,'softmax')\n",
        "     ]\n",
        ")"
      ],
      "metadata": {
        "id": "KZ5_B3Xji2K7"
      },
      "execution_count": null,
      "outputs": []
    },
    {
      "cell_type": "code",
      "source": [
        "model5=tf.keras.models.Sequential(\n",
        "    [\n",
        "     tf.keras.layers.Reshape(input_shape=(784,), target_shape=(28, 28,1)),\n",
        "     tf.keras.layers.Conv2D(32, (3,3),padding='same', activation='relu', input_shape=(28, 28, 1)),\n",
        "     tf.keras.layers.MaxPooling2D(2, 2),\n",
        "     tf.keras.layers.Dropout(0.2),\n",
        "     tf.keras.layers.Conv2D(32, (3,3),padding='same', activation='relu'),\n",
        "     tf.keras.layers.MaxPooling2D(2, 2),\n",
        "     tf.keras.layers.Dropout(0.2),\n",
        "     tf.keras.layers.Flatten(),\n",
        "     tf.keras.layers.Dense(256, activation='relu'),\n",
        "     tf.keras.layers.Dense(10,'softmax')\n",
        "     ]\n",
        ")"
      ],
      "metadata": {
        "id": "SbZikwg_i2pe"
      },
      "execution_count": null,
      "outputs": []
    },
    {
      "cell_type": "code",
      "source": [
        "model6=tf.keras.models.Sequential(\n",
        "    [\n",
        "     tf.keras.layers.Reshape(input_shape=(784,), target_shape=(28, 28,1)),\n",
        "     tf.keras.layers.Conv2D(64, (3,3),padding='same', activation='relu', input_shape=(28, 28, 1)),\n",
        "     tf.keras.layers.MaxPooling2D(2, 2),\n",
        "     tf.keras.layers.Dropout(0.2),\n",
        "     tf.keras.layers.Conv2D(64, (3,3),padding='same', activation='relu'),\n",
        "     tf.keras.layers.MaxPooling2D(2, 2),\n",
        "     tf.keras.layers.Dropout(0.2),\n",
        "     tf.keras.layers.Flatten(),\n",
        "     tf.keras.layers.Dense(256, activation='relu'),\n",
        "     tf.keras.layers.Dense(10,'softmax')\n",
        "     ]\n",
        ")"
      ],
      "metadata": {
        "id": "YvewQJQblmrC"
      },
      "execution_count": null,
      "outputs": []
    },
    {
      "cell_type": "code",
      "source": [
        "model7=tf.keras.models.Sequential(\n",
        "    [\n",
        "     tf.keras.layers.Reshape(input_shape=(784,), target_shape=(28, 28,1)),\n",
        "     tf.keras.layers.Conv2D(32, (3,3),padding='same', activation='relu', input_shape=(28, 28, 1)),\n",
        "     tf.keras.layers.MaxPooling2D(2, 2),\n",
        "     tf.keras.layers.Dropout(0.2),\n",
        "     tf.keras.layers.Conv2D(64, (3,3),padding='same', activation='relu'),\n",
        "     tf.keras.layers.MaxPooling2D(2, 2),\n",
        "     tf.keras.layers.Dropout(0.2),\n",
        "     tf.keras.layers.Flatten(),\n",
        "     tf.keras.layers.Dense(128, activation='relu'),\n",
        "     tf.keras.layers.Dense(10,'softmax')\n",
        "     ]\n",
        ")"
      ],
      "metadata": {
        "id": "pzWUucu4lnW1"
      },
      "execution_count": null,
      "outputs": []
    },
    {
      "cell_type": "code",
      "source": [
        "model8=tf.keras.models.Sequential(\n",
        "    [\n",
        "     tf.keras.layers.Reshape(input_shape=(784,), target_shape=(28, 28,1)),\n",
        "     tf.keras.layers.Conv2D(128, (3,3),padding='same', activation='relu', input_shape=(28, 28, 1)),\n",
        "     tf.keras.layers.MaxPooling2D(2, 2),\n",
        "     tf.keras.layers.Dropout(0.2),\n",
        "     tf.keras.layers.Conv2D(256, (3,3),padding='same', activation='relu'),\n",
        "     tf.keras.layers.MaxPooling2D(2, 2),\n",
        "     tf.keras.layers.Dropout(0.2),\n",
        "     tf.keras.layers.Flatten(),\n",
        "     tf.keras.layers.Dense(128, activation='relu'),\n",
        "     tf.keras.layers.Dense(10,'softmax')\n",
        "     ]\n",
        ")"
      ],
      "metadata": {
        "id": "kQQ3BISKlnpK"
      },
      "execution_count": null,
      "outputs": []
    },
    {
      "cell_type": "code",
      "source": [
        "model9=tf.keras.models.Sequential(\n",
        "    [\n",
        "     tf.keras.layers.Reshape(input_shape=(784,), target_shape=(28, 28,1)),\n",
        "     tf.keras.layers.Conv2D(64, (3,3),padding='same', activation='relu', input_shape=(28, 28, 1)),\n",
        "     tf.keras.layers.MaxPooling2D(2, 2),\n",
        "     tf.keras.layers.Dropout(0.2),\n",
        "     tf.keras.layers.Conv2D(128, (3,3),padding='same', activation='relu'),\n",
        "     tf.keras.layers.MaxPooling2D(2, 2),\n",
        "     tf.keras.layers.Dropout(0.2),\n",
        "     tf.keras.layers.Flatten(),\n",
        "     tf.keras.layers.Dense(128, activation='relu'),\n",
        "     tf.keras.layers.Dense(10,'softmax')\n",
        "     ]\n",
        ")"
      ],
      "metadata": {
        "id": "9Y4lyGHfoDpz"
      },
      "execution_count": null,
      "outputs": []
    },
    {
      "cell_type": "code",
      "source": [
        "model10=tf.keras.models.Sequential(\n",
        "    [\n",
        "     tf.keras.layers.Reshape(input_shape=(784,), target_shape=(28, 28,1)),\n",
        "     tf.keras.layers.Conv2D(64, (3,3),padding='same', activation='relu', input_shape=(28, 28, 1)),\n",
        "     tf.keras.layers.MaxPooling2D(2, 2),\n",
        "     tf.keras.layers.Dropout(0.2),\n",
        "     tf.keras.layers.Conv2D(128, (3,3),padding='same', activation='relu'),\n",
        "     tf.keras.layers.MaxPooling2D(2, 2),\n",
        "     tf.keras.layers.Dropout(0.2),\n",
        "     tf.keras.layers.Flatten(),\n",
        "     tf.keras.layers.Dense(256, activation='relu'),\n",
        "     tf.keras.layers.Dense(10,'softmax')\n",
        "     ]\n",
        ")"
      ],
      "metadata": {
        "id": "dh03kU89oEX-"
      },
      "execution_count": null,
      "outputs": []
    },
    {
      "cell_type": "code",
      "source": [
        "model11=tf.keras.models.Sequential(\n",
        "    [\n",
        "     tf.keras.layers.Reshape(input_shape=(784,), target_shape=(28, 28,1)),\n",
        "     tf.keras.layers.Conv2D(128, (3,3),padding='same', activation='relu', input_shape=(28, 28, 1)),\n",
        "     tf.keras.layers.MaxPooling2D(2, 2),\n",
        "     tf.keras.layers.Dropout(0.2),\n",
        "     tf.keras.layers.Conv2D(128, (3,3),padding='same', activation='relu'),\n",
        "     tf.keras.layers.MaxPooling2D(2, 2),\n",
        "     tf.keras.layers.Dropout(0.2),\n",
        "     tf.keras.layers.Flatten(),\n",
        "     tf.keras.layers.Dense(128, activation='relu'),\n",
        "     tf.keras.layers.Dense(10,'softmax')\n",
        "     ]\n",
        ")"
      ],
      "metadata": {
        "id": "7zQNaNC5oE2H"
      },
      "execution_count": null,
      "outputs": []
    },
    {
      "cell_type": "code",
      "source": [
        "model12=tf.keras.models.Sequential(\n",
        "    [\n",
        "     tf.keras.layers.Reshape(input_shape=(784,), target_shape=(28, 28,1)),\n",
        "     tf.keras.layers.Conv2D(128, (3,3),padding='same', activation='relu', input_shape=(28, 28, 1)),\n",
        "     tf.keras.layers.MaxPooling2D(2, 2),\n",
        "     tf.keras.layers.Dropout(0.2),\n",
        "     tf.keras.layers.Conv2D(128, (3,3),padding='same', activation='relu'),\n",
        "     tf.keras.layers.MaxPooling2D(2, 2),\n",
        "     tf.keras.layers.Dropout(0.2),\n",
        "     tf.keras.layers.Flatten(),\n",
        "     tf.keras.layers.Dense(256, activation='relu'),\n",
        "     tf.keras.layers.Dense(10,'softmax')\n",
        "     ]\n",
        ")"
      ],
      "metadata": {
        "id": "dHRQp0FsoFpO"
      },
      "execution_count": null,
      "outputs": []
    },
    {
      "cell_type": "code",
      "source": [
        "model13=tf.keras.models.Sequential(\n",
        "    [\n",
        "     tf.keras.layers.Reshape(input_shape=(784,), target_shape=(28, 28,1)),\n",
        "     tf.keras.layers.Conv2D(256, (3,3),padding='same', activation='relu', input_shape=(28, 28, 1)),\n",
        "     tf.keras.layers.MaxPooling2D(2, 2),\n",
        "     tf.keras.layers.Dropout(0.2),\n",
        "     tf.keras.layers.Conv2D(256, (3,3),padding='same', activation='relu'),\n",
        "     tf.keras.layers.MaxPooling2D(2, 2),\n",
        "     tf.keras.layers.Dropout(0.2),\n",
        "     tf.keras.layers.Flatten(),\n",
        "     tf.keras.layers.Dense(128, activation='relu'),\n",
        "     tf.keras.layers.Dense(10,'softmax')\n",
        "     ]\n",
        ")"
      ],
      "metadata": {
        "id": "C1W9GDyxs2bl"
      },
      "execution_count": null,
      "outputs": []
    },
    {
      "cell_type": "code",
      "source": [
        "model14=tf.keras.models.Sequential(\n",
        "    [\n",
        "     tf.keras.layers.Reshape(input_shape=(784,), target_shape=(28, 28,1)),\n",
        "     tf.keras.layers.Conv2D(256, (3,3),padding='same', activation='relu', input_shape=(28, 28, 1)),\n",
        "     tf.keras.layers.MaxPooling2D(2, 2),\n",
        "     tf.keras.layers.Dropout(0.2),\n",
        "     tf.keras.layers.Conv2D(256, (3,3),padding='same', activation='relu'),\n",
        "     tf.keras.layers.MaxPooling2D(2, 2),\n",
        "     tf.keras.layers.Dropout(0.2),\n",
        "     tf.keras.layers.Flatten(),\n",
        "     tf.keras.layers.Dense(256, activation='relu'),\n",
        "     tf.keras.layers.Dense(10,'softmax')\n",
        "     ]\n",
        ")"
      ],
      "metadata": {
        "id": "DbxehBi1s3G7"
      },
      "execution_count": null,
      "outputs": []
    },
    {
      "cell_type": "code",
      "source": [
        "model15=tf.keras.models.Sequential(\n",
        "    [\n",
        "     tf.keras.layers.Reshape(input_shape=(784,), target_shape=(28, 28,1)),\n",
        "     tf.keras.layers.Conv2D(64, (3,3),padding='same', activation='relu', input_shape=(28, 28, 1)),\n",
        "     tf.keras.layers.MaxPooling2D(2, 2),\n",
        "     tf.keras.layers.Dropout(0.2),\n",
        "     tf.keras.layers.Conv2D(64, (3,3),padding='same', activation='relu'),\n",
        "     tf.keras.layers.MaxPooling2D(2, 2),\n",
        "     tf.keras.layers.Dropout(0.2),\n",
        "     tf.keras.layers.Flatten(),\n",
        "     tf.keras.layers.Dense(512, activation='relu'),\n",
        "     tf.keras.layers.Dense(10,'softmax')\n",
        "     ]\n",
        ")"
      ],
      "metadata": {
        "id": "tIrapdKrdu4B"
      },
      "execution_count": null,
      "outputs": []
    },
    {
      "cell_type": "code",
      "source": [
        "model16=tf.keras.models.Sequential(\n",
        "    [\n",
        "     tf.keras.layers.Reshape(input_shape=(784,), target_shape=(28, 28,1)),\n",
        "     tf.keras.layers.Conv2D(64, (3,3),padding='same', activation='relu', input_shape=(28, 28, 1)),\n",
        "     tf.keras.layers.MaxPooling2D(2, 2),\n",
        "     tf.keras.layers.Dropout(0.2),\n",
        "     tf.keras.layers.Conv2D(128, (3,3),padding='same', activation='relu'),\n",
        "     tf.keras.layers.MaxPooling2D(2, 2),\n",
        "     tf.keras.layers.Dropout(0.2),\n",
        "     tf.keras.layers.Flatten(),\n",
        "     tf.keras.layers.Dense(512, activation='relu'),\n",
        "     tf.keras.layers.Dense(10,'softmax')\n",
        "     ]\n",
        ")"
      ],
      "metadata": {
        "id": "NGdHX9O_dxcN"
      },
      "execution_count": null,
      "outputs": []
    },
    {
      "cell_type": "code",
      "source": [
        "model17=tf.keras.models.Sequential(\n",
        "    [\n",
        "     tf.keras.layers.Reshape(input_shape=(784,), target_shape=(28, 28,1)),\n",
        "     tf.keras.layers.Conv2D(128, (3,3),padding='same', activation='relu', input_shape=(28, 28, 1)),\n",
        "     tf.keras.layers.MaxPooling2D(2, 2),\n",
        "     tf.keras.layers.Dropout(0.2),\n",
        "     tf.keras.layers.Conv2D(128, (3,3),padding='same', activation='relu'),\n",
        "     tf.keras.layers.MaxPooling2D(2, 2),\n",
        "     tf.keras.layers.Dropout(0.2),\n",
        "     tf.keras.layers.Flatten(),\n",
        "     tf.keras.layers.Dense(512, activation='relu'),\n",
        "     tf.keras.layers.Dense(10,'softmax')\n",
        "     ]\n",
        ")"
      ],
      "metadata": {
        "id": "rjoJyfx4d0ME"
      },
      "execution_count": null,
      "outputs": []
    },
    {
      "cell_type": "code",
      "source": [
        "model18=tf.keras.models.Sequential(\n",
        "    [\n",
        "     tf.keras.layers.Reshape(input_shape=(784,), target_shape=(28, 28,1)),\n",
        "     tf.keras.layers.Conv2D(128, (3,3),padding='same', activation='relu', input_shape=(28, 28, 1)),\n",
        "     tf.keras.layers.MaxPooling2D(2, 2),\n",
        "     tf.keras.layers.Dropout(0.2),\n",
        "     tf.keras.layers.Conv2D(256, (3,3),padding='same', activation='relu'),\n",
        "     tf.keras.layers.MaxPooling2D(2, 2),\n",
        "     tf.keras.layers.Dropout(0.2),\n",
        "     tf.keras.layers.Flatten(),\n",
        "     tf.keras.layers.Dense(512, activation='relu'),\n",
        "     tf.keras.layers.Dense(10,'softmax')\n",
        "     ]\n",
        ")"
      ],
      "metadata": {
        "id": "bQQB51gAd31k"
      },
      "execution_count": null,
      "outputs": []
    },
    {
      "cell_type": "code",
      "source": [
        "model19=tf.keras.models.Sequential(\n",
        "    [\n",
        "     tf.keras.layers.Reshape(input_shape=(784,), target_shape=(28, 28,1)),\n",
        "     tf.keras.layers.Conv2D(256, (3,3),padding='same', activation='relu', input_shape=(28, 28, 1)),\n",
        "     tf.keras.layers.MaxPooling2D(2, 2),\n",
        "     tf.keras.layers.Dropout(0.2),\n",
        "     tf.keras.layers.Conv2D(256, (3,3),padding='same', activation='relu'),\n",
        "     tf.keras.layers.MaxPooling2D(2, 2),\n",
        "     tf.keras.layers.Dropout(0.2),\n",
        "     tf.keras.layers.Flatten(),\n",
        "     tf.keras.layers.Dense(512, activation='relu'),\n",
        "     tf.keras.layers.Dense(10,'softmax')\n",
        "     ]\n",
        ")"
      ],
      "metadata": {
        "id": "bjmT_JBnd7Yg"
      },
      "execution_count": null,
      "outputs": []
    },
    {
      "cell_type": "code",
      "source": [
        "model20=tf.keras.models.Sequential(\n",
        "    [\n",
        "     tf.keras.layers.Reshape(input_shape=(784,), target_shape=(28, 28,1)),\n",
        "     tf.keras.layers.Conv2D(256, (3,3),padding='same', activation='relu', input_shape=(28, 28, 1)),\n",
        "     tf.keras.layers.MaxPooling2D(2, 2),\n",
        "     tf.keras.layers.Dropout(0.2),\n",
        "     tf.keras.layers.Conv2D(512, (3,3),padding='same', activation='relu'),\n",
        "     tf.keras.layers.MaxPooling2D(2, 2),\n",
        "     tf.keras.layers.Dropout(0.2),\n",
        "     tf.keras.layers.Flatten(),\n",
        "     tf.keras.layers.Dense(512, activation='relu'),\n",
        "     tf.keras.layers.Dense(10,'softmax')\n",
        "     ]\n",
        ")"
      ],
      "metadata": {
        "id": "SeRpnqdgd_Mm"
      },
      "execution_count": null,
      "outputs": []
    },
    {
      "cell_type": "code",
      "source": [
        "model21=tf.keras.models.Sequential(\n",
        "    [\n",
        "     tf.keras.layers.Reshape(input_shape=(784,), target_shape=(28, 28,1)),\n",
        "     tf.keras.layers.Conv2D(64, (3,3),padding='same', activation='relu', input_shape=(28, 28, 1)),\n",
        "     tf.keras.layers.MaxPooling2D(2, 2),\n",
        "     tf.keras.layers.Dropout(0.2),\n",
        "     tf.keras.layers.Conv2D(256, (3,3),padding='same', activation='relu'),\n",
        "     tf.keras.layers.MaxPooling2D(2, 2),\n",
        "     tf.keras.layers.Dropout(0.2),\n",
        "     tf.keras.layers.Flatten(),\n",
        "     tf.keras.layers.Dense(128, activation='relu'),\n",
        "     tf.keras.layers.Dense(10,'softmax')\n",
        "     ]\n",
        ")"
      ],
      "metadata": {
        "id": "HAm8-It9p5xx"
      },
      "execution_count": null,
      "outputs": []
    },
    {
      "cell_type": "code",
      "source": [
        "model22=tf.keras.models.Sequential(\n",
        "    [\n",
        "     tf.keras.layers.Reshape(input_shape=(784,), target_shape=(28, 28,1)),\n",
        "     tf.keras.layers.Conv2D(64, (3,3),padding='same', activation='relu', input_shape=(28, 28, 1)),\n",
        "     tf.keras.layers.MaxPooling2D(2, 2),\n",
        "     tf.keras.layers.Dropout(0.2),\n",
        "     tf.keras.layers.Conv2D(256, (3,3),padding='same', activation='relu'),\n",
        "     tf.keras.layers.MaxPooling2D(2, 2),\n",
        "     tf.keras.layers.Dropout(0.2),\n",
        "     tf.keras.layers.Flatten(),\n",
        "     tf.keras.layers.Dense(256, activation='relu'),\n",
        "     tf.keras.layers.Dense(10,'softmax')\n",
        "     ]\n",
        ")"
      ],
      "metadata": {
        "id": "VZyEMSnfp9Pi"
      },
      "execution_count": null,
      "outputs": []
    },
    {
      "cell_type": "code",
      "source": [
        "model23=tf.keras.models.Sequential(\n",
        "    [\n",
        "     tf.keras.layers.Reshape(input_shape=(784,), target_shape=(28, 28,1)),\n",
        "     tf.keras.layers.Conv2D(64, (3,3),padding='same', activation='relu', input_shape=(28, 28, 1)),\n",
        "     tf.keras.layers.MaxPooling2D(2, 2),\n",
        "     tf.keras.layers.Dropout(0.2),\n",
        "     tf.keras.layers.Conv2D(256, (3,3),padding='same', activation='relu'),\n",
        "     tf.keras.layers.MaxPooling2D(2, 2),\n",
        "     tf.keras.layers.Dropout(0.2),\n",
        "     tf.keras.layers.Flatten(),\n",
        "     tf.keras.layers.Dense(512, activation='relu'),\n",
        "     tf.keras.layers.Dense(10,'softmax')\n",
        "     ]\n",
        ")"
      ],
      "metadata": {
        "id": "7kPg6agaqJSF"
      },
      "execution_count": null,
      "outputs": []
    },
    {
      "cell_type": "code",
      "source": [
        "model24=tf.keras.models.Sequential(\n",
        "    [\n",
        "     tf.keras.layers.Reshape(input_shape=(784,), target_shape=(28, 28,1)),\n",
        "     tf.keras.layers.Conv2D(128, (3,3),padding='same', activation='relu', input_shape=(28, 28, 1)),\n",
        "     tf.keras.layers.MaxPooling2D(2, 2),\n",
        "     tf.keras.layers.Dropout(0.2),\n",
        "     tf.keras.layers.Conv2D(512, (3,3),padding='same', activation='relu'),\n",
        "     tf.keras.layers.MaxPooling2D(2, 2),\n",
        "     tf.keras.layers.Dropout(0.2),\n",
        "     tf.keras.layers.Flatten(),\n",
        "     tf.keras.layers.Dense(128, activation='relu'),\n",
        "     tf.keras.layers.Dense(10,'softmax')\n",
        "     ]\n",
        ")"
      ],
      "metadata": {
        "id": "4dwoMmOWqNvk"
      },
      "execution_count": null,
      "outputs": []
    },
    {
      "cell_type": "code",
      "source": [
        "model25=tf.keras.models.Sequential(\n",
        "    [\n",
        "     tf.keras.layers.Reshape(input_shape=(784,), target_shape=(28, 28,1)),\n",
        "     tf.keras.layers.Conv2D(128, (3,3),padding='same', activation='relu', input_shape=(28, 28, 1)),\n",
        "     tf.keras.layers.MaxPooling2D(2, 2),\n",
        "     tf.keras.layers.Dropout(0.2),\n",
        "     tf.keras.layers.Conv2D(512, (3,3),padding='same', activation='relu'),\n",
        "     tf.keras.layers.MaxPooling2D(2, 2),\n",
        "     tf.keras.layers.Dropout(0.2),\n",
        "     tf.keras.layers.Flatten(),\n",
        "     tf.keras.layers.Dense(256, activation='relu'),\n",
        "     tf.keras.layers.Dense(10,'softmax')\n",
        "     ]\n",
        ")"
      ],
      "metadata": {
        "id": "wropkVp2qTwX"
      },
      "execution_count": null,
      "outputs": []
    },
    {
      "cell_type": "code",
      "source": [
        "model26=tf.keras.models.Sequential(\n",
        "    [\n",
        "     tf.keras.layers.Reshape(input_shape=(784,), target_shape=(28, 28,1)),\n",
        "     tf.keras.layers.Conv2D(128, (3,3),padding='same', activation='relu', input_shape=(28, 28, 1)),\n",
        "     tf.keras.layers.MaxPooling2D(2, 2),\n",
        "     tf.keras.layers.Dropout(0.2),\n",
        "     tf.keras.layers.Conv2D(512, (3,3),padding='same', activation='relu'),\n",
        "     tf.keras.layers.MaxPooling2D(2, 2),\n",
        "     tf.keras.layers.Dropout(0.2),\n",
        "     tf.keras.layers.Flatten(),\n",
        "     tf.keras.layers.Dense(512, activation='relu'),\n",
        "     tf.keras.layers.Dense(10,'softmax')\n",
        "     ]\n",
        ")"
      ],
      "metadata": {
        "id": "RFdEX80NqYFR"
      },
      "execution_count": null,
      "outputs": []
    },
    {
      "cell_type": "code",
      "source": [
        "model1.compile(loss = 'categorical_crossentropy', optimizer=tf.keras.optimizers.RMSprop(), metrics=['accuracy'])\n",
        "model2.compile(loss = 'categorical_crossentropy', optimizer=tf.keras.optimizers.RMSprop(), metrics=['accuracy'])\n",
        "model3.compile(loss = 'categorical_crossentropy', optimizer=tf.keras.optimizers.RMSprop(), metrics=['accuracy'])\n",
        "model4.compile(loss = 'categorical_crossentropy', optimizer=tf.keras.optimizers.RMSprop(), metrics=['accuracy'])\n",
        "model5.compile(loss = 'categorical_crossentropy', optimizer=tf.keras.optimizers.RMSprop(), metrics=['accuracy'])\n",
        "model6.compile(loss = 'categorical_crossentropy', optimizer=tf.keras.optimizers.RMSprop(), metrics=['accuracy'])\n",
        "model7.compile(loss = 'categorical_crossentropy', optimizer=tf.keras.optimizers.RMSprop(), metrics=['accuracy'])\n",
        "model8.compile(loss = 'categorical_crossentropy', optimizer=tf.keras.optimizers.RMSprop(), metrics=['accuracy'])\n",
        "model9.compile(loss = 'categorical_crossentropy', optimizer=tf.keras.optimizers.RMSprop(), metrics=['accuracy'])\n",
        "model10.compile(loss = 'categorical_crossentropy', optimizer=tf.keras.optimizers.RMSprop(), metrics=['accuracy'])\n",
        "model11.compile(loss = 'categorical_crossentropy', optimizer=tf.keras.optimizers.RMSprop(), metrics=['accuracy'])\n",
        "model12.compile(loss = 'categorical_crossentropy', optimizer=tf.keras.optimizers.RMSprop(), metrics=['accuracy'])\n",
        "model13.compile(loss = 'categorical_crossentropy', optimizer=tf.keras.optimizers.RMSprop(), metrics=['accuracy'])\n",
        "model14.compile(loss = 'categorical_crossentropy', optimizer=tf.keras.optimizers.RMSprop(), metrics=['accuracy'])\n",
        "model15.compile(loss = 'categorical_crossentropy', optimizer=tf.keras.optimizers.RMSprop(), metrics=['accuracy'])\n",
        "model16.compile(loss = 'categorical_crossentropy', optimizer=tf.keras.optimizers.RMSprop(), metrics=['accuracy'])\n",
        "model17.compile(loss = 'categorical_crossentropy', optimizer=tf.keras.optimizers.RMSprop(), metrics=['accuracy'])\n",
        "model18.compile(loss = 'categorical_crossentropy', optimizer=tf.keras.optimizers.RMSprop(), metrics=['accuracy'])\n",
        "model19.compile(loss = 'categorical_crossentropy', optimizer=tf.keras.optimizers.RMSprop(), metrics=['accuracy'])\n",
        "model20.compile(loss = 'categorical_crossentropy', optimizer=tf.keras.optimizers.RMSprop(), metrics=['accuracy'])\n",
        "model21.compile(loss = 'categorical_crossentropy', optimizer=tf.keras.optimizers.RMSprop(), metrics=['accuracy'])\n",
        "model22.compile(loss = 'categorical_crossentropy', optimizer=tf.keras.optimizers.RMSprop(), metrics=['accuracy'])\n",
        "model23.compile(loss = 'categorical_crossentropy', optimizer=tf.keras.optimizers.RMSprop(), metrics=['accuracy'])\n",
        "model24.compile(loss = 'categorical_crossentropy', optimizer=tf.keras.optimizers.RMSprop(), metrics=['accuracy'])\n",
        "model25.compile(loss = 'categorical_crossentropy', optimizer=tf.keras.optimizers.RMSprop(), metrics=['accuracy'])\n",
        "model26.compile(loss = 'categorical_crossentropy', optimizer=tf.keras.optimizers.RMSprop(), metrics=['accuracy'])"
      ],
      "metadata": {
        "id": "nS-qL81-gUKv"
      },
      "execution_count": null,
      "outputs": []
    },
    {
      "cell_type": "code",
      "source": [
        "model1.fit(train_labels,test_labels,batch_size=128,epochs=10)"
      ],
      "metadata": {
        "colab": {
          "base_uri": "https://localhost:8080/"
        },
        "id": "Ene06olegb14",
        "outputId": "a4ae6680-9950-4f40-c7f9-51e963f43911"
      },
      "execution_count": null,
      "outputs": [
        {
          "output_type": "stream",
          "name": "stdout",
          "text": [
            "Epoch 1/10\n",
            "329/329 [==============================] - 14s 35ms/step - loss: 0.2011 - accuracy: 0.9373\n",
            "Epoch 2/10\n",
            "329/329 [==============================] - 11s 35ms/step - loss: 0.0474 - accuracy: 0.9848\n",
            "Epoch 3/10\n",
            "329/329 [==============================] - 11s 34ms/step - loss: 0.0321 - accuracy: 0.9898\n",
            "Epoch 4/10\n",
            "329/329 [==============================] - 11s 34ms/step - loss: 0.0240 - accuracy: 0.9919\n",
            "Epoch 5/10\n",
            "329/329 [==============================] - 11s 34ms/step - loss: 0.0182 - accuracy: 0.9940\n",
            "Epoch 6/10\n",
            "329/329 [==============================] - 12s 36ms/step - loss: 0.0142 - accuracy: 0.9955\n",
            "Epoch 7/10\n",
            "329/329 [==============================] - 11s 35ms/step - loss: 0.0123 - accuracy: 0.9959\n",
            "Epoch 8/10\n",
            "329/329 [==============================] - 11s 34ms/step - loss: 0.0098 - accuracy: 0.9969\n",
            "Epoch 9/10\n",
            "329/329 [==============================] - 11s 34ms/step - loss: 0.0080 - accuracy: 0.9974\n",
            "Epoch 10/10\n",
            "329/329 [==============================] - 11s 35ms/step - loss: 0.0074 - accuracy: 0.9978\n"
          ]
        },
        {
          "output_type": "execute_result",
          "data": {
            "text/plain": [
              "<keras.callbacks.History at 0x7f68202de790>"
            ]
          },
          "metadata": {},
          "execution_count": 34
        }
      ]
    },
    {
      "cell_type": "code",
      "source": [
        "model2.fit(train_labels,test_labels,batch_size=128,epochs=10)"
      ],
      "metadata": {
        "colab": {
          "base_uri": "https://localhost:8080/"
        },
        "id": "c-KjdTKtgdUr",
        "outputId": "c168c624-64d6-4ba7-92af-1d2a60dd804f"
      },
      "execution_count": null,
      "outputs": [
        {
          "output_type": "stream",
          "name": "stdout",
          "text": [
            "Epoch 1/10\n",
            "329/329 [==============================] - 4s 10ms/step - loss: 0.2535 - accuracy: 0.9195\n",
            "Epoch 2/10\n",
            "329/329 [==============================] - 3s 10ms/step - loss: 0.0728 - accuracy: 0.9765\n",
            "Epoch 3/10\n",
            "329/329 [==============================] - 3s 10ms/step - loss: 0.0512 - accuracy: 0.9839\n",
            "Epoch 4/10\n",
            "329/329 [==============================] - 3s 10ms/step - loss: 0.0394 - accuracy: 0.9875\n",
            "Epoch 5/10\n",
            "329/329 [==============================] - 3s 10ms/step - loss: 0.0322 - accuracy: 0.9897\n",
            "Epoch 6/10\n",
            "329/329 [==============================] - 3s 10ms/step - loss: 0.0271 - accuracy: 0.9912\n",
            "Epoch 7/10\n",
            "329/329 [==============================] - 3s 10ms/step - loss: 0.0234 - accuracy: 0.9925\n",
            "Epoch 8/10\n",
            "329/329 [==============================] - 3s 10ms/step - loss: 0.0207 - accuracy: 0.9932\n",
            "Epoch 9/10\n",
            "329/329 [==============================] - 3s 10ms/step - loss: 0.0173 - accuracy: 0.9943\n",
            "Epoch 10/10\n",
            "329/329 [==============================] - 3s 10ms/step - loss: 0.0164 - accuracy: 0.9950\n"
          ]
        },
        {
          "output_type": "execute_result",
          "data": {
            "text/plain": [
              "<keras.callbacks.History at 0x7f6820050ed0>"
            ]
          },
          "metadata": {},
          "execution_count": 35
        }
      ]
    },
    {
      "cell_type": "code",
      "source": [
        "model3.fit(train_labels,test_labels,batch_size=128,epochs=10)"
      ],
      "metadata": {
        "colab": {
          "base_uri": "https://localhost:8080/"
        },
        "id": "__7vRUC9gePy",
        "outputId": "58bf09d2-112a-4363-bcdb-8be2ebbe1dc0"
      },
      "execution_count": null,
      "outputs": [
        {
          "output_type": "stream",
          "name": "stdout",
          "text": [
            "Epoch 1/10\n",
            "329/329 [==============================] - 4s 10ms/step - loss: 0.2688 - accuracy: 0.9160\n",
            "Epoch 2/10\n",
            "329/329 [==============================] - 3s 10ms/step - loss: 0.0803 - accuracy: 0.9750\n",
            "Epoch 3/10\n",
            "329/329 [==============================] - 3s 10ms/step - loss: 0.0546 - accuracy: 0.9829\n",
            "Epoch 4/10\n",
            "329/329 [==============================] - 3s 10ms/step - loss: 0.0426 - accuracy: 0.9860\n",
            "Epoch 5/10\n",
            "329/329 [==============================] - 3s 10ms/step - loss: 0.0349 - accuracy: 0.9895\n",
            "Epoch 6/10\n",
            "329/329 [==============================] - 3s 10ms/step - loss: 0.0313 - accuracy: 0.9900\n",
            "Epoch 7/10\n",
            "329/329 [==============================] - 3s 10ms/step - loss: 0.0270 - accuracy: 0.9915\n",
            "Epoch 8/10\n",
            "329/329 [==============================] - 3s 10ms/step - loss: 0.0225 - accuracy: 0.9930\n",
            "Epoch 9/10\n",
            "329/329 [==============================] - 3s 10ms/step - loss: 0.0211 - accuracy: 0.9930\n",
            "Epoch 10/10\n",
            "329/329 [==============================] - 3s 10ms/step - loss: 0.0185 - accuracy: 0.9940\n"
          ]
        },
        {
          "output_type": "execute_result",
          "data": {
            "text/plain": [
              "<keras.callbacks.History at 0x7f682907a6d0>"
            ]
          },
          "metadata": {},
          "execution_count": 36
        }
      ]
    },
    {
      "cell_type": "code",
      "source": [
        "model4.fit(train_labels,test_labels,batch_size=128,epochs=10)"
      ],
      "metadata": {
        "colab": {
          "base_uri": "https://localhost:8080/"
        },
        "id": "4BP3A9IojTJW",
        "outputId": "79fdb9d8-aa78-489f-9b1b-b73a09d8d078"
      },
      "execution_count": null,
      "outputs": [
        {
          "output_type": "stream",
          "name": "stdout",
          "text": [
            "Epoch 1/10\n",
            "329/329 [==============================] - 5s 12ms/step - loss: 0.2588 - accuracy: 0.9171\n",
            "Epoch 2/10\n",
            "329/329 [==============================] - 4s 12ms/step - loss: 0.0720 - accuracy: 0.9776\n",
            "Epoch 3/10\n",
            "329/329 [==============================] - 4s 12ms/step - loss: 0.0503 - accuracy: 0.9834\n",
            "Epoch 4/10\n",
            "329/329 [==============================] - 4s 12ms/step - loss: 0.0380 - accuracy: 0.9883\n",
            "Epoch 5/10\n",
            "329/329 [==============================] - 4s 12ms/step - loss: 0.0308 - accuracy: 0.9899\n",
            "Epoch 6/10\n",
            "329/329 [==============================] - 4s 12ms/step - loss: 0.0262 - accuracy: 0.9918\n",
            "Epoch 7/10\n",
            "329/329 [==============================] - 4s 12ms/step - loss: 0.0222 - accuracy: 0.9930\n",
            "Epoch 8/10\n",
            "329/329 [==============================] - 4s 12ms/step - loss: 0.0204 - accuracy: 0.9935\n",
            "Epoch 9/10\n",
            "329/329 [==============================] - 4s 12ms/step - loss: 0.0173 - accuracy: 0.9944\n",
            "Epoch 10/10\n",
            "329/329 [==============================] - 4s 12ms/step - loss: 0.0160 - accuracy: 0.9949\n"
          ]
        },
        {
          "output_type": "execute_result",
          "data": {
            "text/plain": [
              "<keras.callbacks.History at 0x7f67b081ded0>"
            ]
          },
          "metadata": {},
          "execution_count": 37
        }
      ]
    },
    {
      "cell_type": "code",
      "source": [
        "model5.fit(train_labels,test_labels,batch_size=128,epochs=10)"
      ],
      "metadata": {
        "colab": {
          "base_uri": "https://localhost:8080/"
        },
        "id": "RPMTiQY9jT6n",
        "outputId": "bd9321e1-7f20-4ebc-e253-ead6e9c14670"
      },
      "execution_count": null,
      "outputs": [
        {
          "output_type": "stream",
          "name": "stdout",
          "text": [
            "Epoch 1/10\n",
            "329/329 [==============================] - 4s 10ms/step - loss: 0.2671 - accuracy: 0.9153\n",
            "Epoch 2/10\n",
            "329/329 [==============================] - 3s 10ms/step - loss: 0.0740 - accuracy: 0.9770\n",
            "Epoch 3/10\n",
            "329/329 [==============================] - 3s 9ms/step - loss: 0.0541 - accuracy: 0.9833\n",
            "Epoch 4/10\n",
            "329/329 [==============================] - 3s 9ms/step - loss: 0.0413 - accuracy: 0.9869\n",
            "Epoch 5/10\n",
            "329/329 [==============================] - 3s 9ms/step - loss: 0.0347 - accuracy: 0.9892\n",
            "Epoch 6/10\n",
            "329/329 [==============================] - 3s 9ms/step - loss: 0.0289 - accuracy: 0.9906\n",
            "Epoch 7/10\n",
            "329/329 [==============================] - 3s 9ms/step - loss: 0.0248 - accuracy: 0.9920\n",
            "Epoch 8/10\n",
            "329/329 [==============================] - 3s 10ms/step - loss: 0.0216 - accuracy: 0.9925\n",
            "Epoch 9/10\n",
            "329/329 [==============================] - 3s 9ms/step - loss: 0.0190 - accuracy: 0.9935\n",
            "Epoch 10/10\n",
            "329/329 [==============================] - 3s 9ms/step - loss: 0.0183 - accuracy: 0.9944\n"
          ]
        },
        {
          "output_type": "execute_result",
          "data": {
            "text/plain": [
              "<keras.callbacks.History at 0x7f67b06575d0>"
            ]
          },
          "metadata": {},
          "execution_count": 38
        }
      ]
    },
    {
      "cell_type": "code",
      "source": [
        "model6.fit(train_labels,test_labels,batch_size=128,epochs=10)"
      ],
      "metadata": {
        "colab": {
          "base_uri": "https://localhost:8080/"
        },
        "id": "O3EUy0yGmAGj",
        "outputId": "8dca0bee-6eb4-45bc-db35-db0bed4ba3f5"
      },
      "execution_count": null,
      "outputs": [
        {
          "output_type": "stream",
          "name": "stdout",
          "text": [
            "Epoch 1/10\n",
            "329/329 [==============================] - 6s 14ms/step - loss: 0.2111 - accuracy: 0.9349\n",
            "Epoch 2/10\n",
            "329/329 [==============================] - 4s 14ms/step - loss: 0.0576 - accuracy: 0.9820\n",
            "Epoch 3/10\n",
            "329/329 [==============================] - 5s 14ms/step - loss: 0.0408 - accuracy: 0.9866\n",
            "Epoch 4/10\n",
            "329/329 [==============================] - 5s 14ms/step - loss: 0.0307 - accuracy: 0.9904\n",
            "Epoch 5/10\n",
            "329/329 [==============================] - 5s 14ms/step - loss: 0.0249 - accuracy: 0.9919\n",
            "Epoch 6/10\n",
            "329/329 [==============================] - 4s 14ms/step - loss: 0.0193 - accuracy: 0.9940\n",
            "Epoch 7/10\n",
            "329/329 [==============================] - 5s 14ms/step - loss: 0.0181 - accuracy: 0.9945\n",
            "Epoch 8/10\n",
            "329/329 [==============================] - 5s 14ms/step - loss: 0.0151 - accuracy: 0.9952\n",
            "Epoch 9/10\n",
            "329/329 [==============================] - 5s 14ms/step - loss: 0.0128 - accuracy: 0.9957\n",
            "Epoch 10/10\n",
            "329/329 [==============================] - 4s 14ms/step - loss: 0.0114 - accuracy: 0.9963\n"
          ]
        },
        {
          "output_type": "execute_result",
          "data": {
            "text/plain": [
              "<keras.callbacks.History at 0x7f67b0813090>"
            ]
          },
          "metadata": {},
          "execution_count": 39
        }
      ]
    },
    {
      "cell_type": "code",
      "source": [
        "model7.fit(train_labels,test_labels,batch_size=128,epochs=10)"
      ],
      "metadata": {
        "colab": {
          "base_uri": "https://localhost:8080/"
        },
        "id": "v39SO2SkmAsT",
        "outputId": "8694b2ad-5131-40a7-a425-2a0426c39d4e"
      },
      "execution_count": null,
      "outputs": [
        {
          "output_type": "stream",
          "name": "stdout",
          "text": [
            "Epoch 1/10\n",
            "329/329 [==============================] - 4s 10ms/step - loss: 0.2591 - accuracy: 0.9195\n",
            "Epoch 2/10\n",
            "329/329 [==============================] - 3s 10ms/step - loss: 0.0703 - accuracy: 0.9779\n",
            "Epoch 3/10\n",
            "329/329 [==============================] - 3s 10ms/step - loss: 0.0487 - accuracy: 0.9846\n",
            "Epoch 4/10\n",
            "329/329 [==============================] - 3s 10ms/step - loss: 0.0383 - accuracy: 0.9880\n",
            "Epoch 5/10\n",
            "329/329 [==============================] - 3s 10ms/step - loss: 0.0310 - accuracy: 0.9904\n",
            "Epoch 6/10\n",
            "329/329 [==============================] - 3s 11ms/step - loss: 0.0253 - accuracy: 0.9916\n",
            "Epoch 7/10\n",
            "329/329 [==============================] - 3s 11ms/step - loss: 0.0221 - accuracy: 0.9929\n",
            "Epoch 8/10\n",
            "329/329 [==============================] - 3s 10ms/step - loss: 0.0198 - accuracy: 0.9936\n",
            "Epoch 9/10\n",
            "329/329 [==============================] - 3s 11ms/step - loss: 0.0173 - accuracy: 0.9946\n",
            "Epoch 10/10\n",
            "329/329 [==============================] - 3s 10ms/step - loss: 0.0152 - accuracy: 0.9950\n"
          ]
        },
        {
          "output_type": "execute_result",
          "data": {
            "text/plain": [
              "<keras.callbacks.History at 0x7f673957cc10>"
            ]
          },
          "metadata": {},
          "execution_count": 40
        }
      ]
    },
    {
      "cell_type": "code",
      "source": [
        "model8.fit(train_labels,test_labels,batch_size=128,epochs=10)"
      ],
      "metadata": {
        "colab": {
          "base_uri": "https://localhost:8080/"
        },
        "id": "Oi2diH6umAZZ",
        "outputId": "f86bb44d-9a27-43a8-e3b5-bf05009ef1f9"
      },
      "execution_count": null,
      "outputs": [
        {
          "output_type": "stream",
          "name": "stdout",
          "text": [
            "Epoch 1/10\n",
            "329/329 [==============================] - 12s 32ms/step - loss: 0.1990 - accuracy: 0.9383\n",
            "Epoch 2/10\n",
            "329/329 [==============================] - 11s 32ms/step - loss: 0.0491 - accuracy: 0.9850\n",
            "Epoch 3/10\n",
            "329/329 [==============================] - 11s 32ms/step - loss: 0.0320 - accuracy: 0.9902\n",
            "Epoch 4/10\n",
            "329/329 [==============================] - 11s 32ms/step - loss: 0.0261 - accuracy: 0.9915\n",
            "Epoch 5/10\n",
            "329/329 [==============================] - 11s 32ms/step - loss: 0.0193 - accuracy: 0.9939\n",
            "Epoch 6/10\n",
            "329/329 [==============================] - 11s 32ms/step - loss: 0.0154 - accuracy: 0.9949\n",
            "Epoch 7/10\n",
            "329/329 [==============================] - 11s 32ms/step - loss: 0.0120 - accuracy: 0.9961\n",
            "Epoch 8/10\n",
            "329/329 [==============================] - 11s 32ms/step - loss: 0.0102 - accuracy: 0.9970\n",
            "Epoch 9/10\n",
            "329/329 [==============================] - 11s 33ms/step - loss: 0.0086 - accuracy: 0.9972\n",
            "Epoch 10/10\n",
            "329/329 [==============================] - 11s 32ms/step - loss: 0.0075 - accuracy: 0.9975\n"
          ]
        },
        {
          "output_type": "execute_result",
          "data": {
            "text/plain": [
              "<keras.callbacks.History at 0x7f673950c090>"
            ]
          },
          "metadata": {},
          "execution_count": 41
        }
      ]
    },
    {
      "cell_type": "code",
      "source": [
        "model9.fit(train_labels,test_labels,batch_size=128,epochs=10)"
      ],
      "metadata": {
        "colab": {
          "base_uri": "https://localhost:8080/"
        },
        "id": "n7W9DZ3koiSH",
        "outputId": "67aa3fb7-ef2f-4c72-faa3-5ebf50a6d132"
      },
      "execution_count": null,
      "outputs": [
        {
          "output_type": "stream",
          "name": "stdout",
          "text": [
            "Epoch 1/10\n",
            "329/329 [==============================] - 6s 17ms/step - loss: 0.2162 - accuracy: 0.9316\n",
            "Epoch 2/10\n",
            "329/329 [==============================] - 5s 16ms/step - loss: 0.0549 - accuracy: 0.9828\n",
            "Epoch 3/10\n",
            "329/329 [==============================] - 5s 16ms/step - loss: 0.0375 - accuracy: 0.9880\n",
            "Epoch 4/10\n",
            "329/329 [==============================] - 5s 16ms/step - loss: 0.0278 - accuracy: 0.9915\n",
            "Epoch 5/10\n",
            "329/329 [==============================] - 5s 16ms/step - loss: 0.0218 - accuracy: 0.9930\n",
            "Epoch 6/10\n",
            "329/329 [==============================] - 5s 16ms/step - loss: 0.0181 - accuracy: 0.9943\n",
            "Epoch 7/10\n",
            "329/329 [==============================] - 5s 16ms/step - loss: 0.0147 - accuracy: 0.9953\n",
            "Epoch 8/10\n",
            "329/329 [==============================] - 5s 16ms/step - loss: 0.0124 - accuracy: 0.9962\n",
            "Epoch 9/10\n",
            "329/329 [==============================] - 5s 16ms/step - loss: 0.0107 - accuracy: 0.9967\n",
            "Epoch 10/10\n",
            "329/329 [==============================] - 5s 16ms/step - loss: 0.0103 - accuracy: 0.9968\n"
          ]
        },
        {
          "output_type": "execute_result",
          "data": {
            "text/plain": [
              "<keras.callbacks.History at 0x7f67389fd890>"
            ]
          },
          "metadata": {},
          "execution_count": 42
        }
      ]
    },
    {
      "cell_type": "code",
      "source": [
        "model10.fit(train_labels,test_labels,batch_size=128,epochs=10)"
      ],
      "metadata": {
        "colab": {
          "base_uri": "https://localhost:8080/"
        },
        "id": "NUpTZt1OojdX",
        "outputId": "93f2be48-1849-4903-ee8b-de5308dc1f60"
      },
      "execution_count": null,
      "outputs": [
        {
          "output_type": "stream",
          "name": "stdout",
          "text": [
            "Epoch 1/10\n",
            "329/329 [==============================] - 7s 18ms/step - loss: 0.1985 - accuracy: 0.9360\n",
            "Epoch 2/10\n",
            "329/329 [==============================] - 6s 17ms/step - loss: 0.0522 - accuracy: 0.9834\n",
            "Epoch 3/10\n",
            "329/329 [==============================] - 6s 17ms/step - loss: 0.0365 - accuracy: 0.9880\n",
            "Epoch 4/10\n",
            "329/329 [==============================] - 6s 17ms/step - loss: 0.0265 - accuracy: 0.9919\n",
            "Epoch 5/10\n",
            "329/329 [==============================] - 6s 17ms/step - loss: 0.0210 - accuracy: 0.9929\n",
            "Epoch 6/10\n",
            "329/329 [==============================] - 6s 18ms/step - loss: 0.0177 - accuracy: 0.9945\n",
            "Epoch 7/10\n",
            "329/329 [==============================] - 6s 18ms/step - loss: 0.0144 - accuracy: 0.9953\n",
            "Epoch 8/10\n",
            "329/329 [==============================] - 6s 18ms/step - loss: 0.0116 - accuracy: 0.9967\n",
            "Epoch 9/10\n",
            "329/329 [==============================] - 6s 18ms/step - loss: 0.0092 - accuracy: 0.9970\n",
            "Epoch 10/10\n",
            "329/329 [==============================] - 6s 18ms/step - loss: 0.0091 - accuracy: 0.9975\n"
          ]
        },
        {
          "output_type": "execute_result",
          "data": {
            "text/plain": [
              "<keras.callbacks.History at 0x7f673895bfd0>"
            ]
          },
          "metadata": {},
          "execution_count": 43
        }
      ]
    },
    {
      "cell_type": "code",
      "source": [
        "model11.fit(train_labels,test_labels,batch_size=128,epochs=10)"
      ],
      "metadata": {
        "colab": {
          "base_uri": "https://localhost:8080/"
        },
        "id": "llyXz6BLojBT",
        "outputId": "48f80f09-ef00-4027-fdb3-7a2601b37513"
      },
      "execution_count": null,
      "outputs": [
        {
          "output_type": "stream",
          "name": "stdout",
          "text": [
            "Epoch 1/10\n",
            "329/329 [==============================] - 9s 24ms/step - loss: 0.2022 - accuracy: 0.9360\n",
            "Epoch 2/10\n",
            "329/329 [==============================] - 8s 24ms/step - loss: 0.0522 - accuracy: 0.9839\n",
            "Epoch 3/10\n",
            "329/329 [==============================] - 8s 24ms/step - loss: 0.0353 - accuracy: 0.9892\n",
            "Epoch 4/10\n",
            "329/329 [==============================] - 8s 24ms/step - loss: 0.0281 - accuracy: 0.9910\n",
            "Epoch 5/10\n",
            "329/329 [==============================] - 8s 25ms/step - loss: 0.0206 - accuracy: 0.9938\n",
            "Epoch 6/10\n",
            "329/329 [==============================] - 8s 24ms/step - loss: 0.0173 - accuracy: 0.9944\n",
            "Epoch 7/10\n",
            "329/329 [==============================] - 8s 24ms/step - loss: 0.0135 - accuracy: 0.9961\n",
            "Epoch 8/10\n",
            "329/329 [==============================] - 8s 24ms/step - loss: 0.0120 - accuracy: 0.9964\n",
            "Epoch 9/10\n",
            "329/329 [==============================] - 8s 25ms/step - loss: 0.0101 - accuracy: 0.9969\n",
            "Epoch 10/10\n",
            "329/329 [==============================] - 8s 24ms/step - loss: 0.0092 - accuracy: 0.9973\n"
          ]
        },
        {
          "output_type": "execute_result",
          "data": {
            "text/plain": [
              "<keras.callbacks.History at 0x7f673866c550>"
            ]
          },
          "metadata": {},
          "execution_count": 44
        }
      ]
    },
    {
      "cell_type": "code",
      "source": [
        "model12.fit(train_labels,test_labels,batch_size=128,epochs=10)"
      ],
      "metadata": {
        "colab": {
          "base_uri": "https://localhost:8080/"
        },
        "id": "yp0_Qo7koimu",
        "outputId": "ed4d5d73-5a31-471c-9c5b-f4faa118ce6b"
      },
      "execution_count": null,
      "outputs": [
        {
          "output_type": "stream",
          "name": "stdout",
          "text": [
            "Epoch 1/10\n",
            "329/329 [==============================] - 9s 26ms/step - loss: 0.1922 - accuracy: 0.9390\n",
            "Epoch 2/10\n",
            "329/329 [==============================] - 8s 25ms/step - loss: 0.0485 - accuracy: 0.9847\n",
            "Epoch 3/10\n",
            "329/329 [==============================] - 9s 26ms/step - loss: 0.0334 - accuracy: 0.9894\n",
            "Epoch 4/10\n",
            "329/329 [==============================] - 9s 26ms/step - loss: 0.0250 - accuracy: 0.9920\n",
            "Epoch 5/10\n",
            "329/329 [==============================] - 8s 26ms/step - loss: 0.0199 - accuracy: 0.9936\n",
            "Epoch 6/10\n",
            "329/329 [==============================] - 8s 26ms/step - loss: 0.0163 - accuracy: 0.9946\n",
            "Epoch 7/10\n",
            "329/329 [==============================] - 9s 26ms/step - loss: 0.0135 - accuracy: 0.9959\n",
            "Epoch 8/10\n",
            "329/329 [==============================] - 9s 26ms/step - loss: 0.0111 - accuracy: 0.9966\n",
            "Epoch 9/10\n",
            "329/329 [==============================] - 9s 26ms/step - loss: 0.0094 - accuracy: 0.9969\n",
            "Epoch 10/10\n",
            "329/329 [==============================] - 8s 25ms/step - loss: 0.0093 - accuracy: 0.9970\n"
          ]
        },
        {
          "output_type": "execute_result",
          "data": {
            "text/plain": [
              "<keras.callbacks.History at 0x7f67364aaa10>"
            ]
          },
          "metadata": {},
          "execution_count": 45
        }
      ]
    },
    {
      "cell_type": "code",
      "source": [
        "model13.fit(train_labels,test_labels,batch_size=128,epochs=10)"
      ],
      "metadata": {
        "colab": {
          "base_uri": "https://localhost:8080/"
        },
        "id": "R5oNI-A2tMYk",
        "outputId": "1954061d-9f3e-4d24-8434-2da26bc5dbb6"
      },
      "execution_count": null,
      "outputs": [
        {
          "output_type": "stream",
          "name": "stdout",
          "text": [
            "Epoch 1/10\n",
            "329/329 [==============================] - 18s 52ms/step - loss: 0.1872 - accuracy: 0.9413\n",
            "Epoch 2/10\n",
            "329/329 [==============================] - 17s 51ms/step - loss: 0.0459 - accuracy: 0.9852\n",
            "Epoch 3/10\n",
            "329/329 [==============================] - 17s 51ms/step - loss: 0.0326 - accuracy: 0.9896\n",
            "Epoch 4/10\n",
            "329/329 [==============================] - 17s 51ms/step - loss: 0.0231 - accuracy: 0.9931\n",
            "Epoch 5/10\n",
            "329/329 [==============================] - 17s 51ms/step - loss: 0.0189 - accuracy: 0.9943\n",
            "Epoch 6/10\n",
            "329/329 [==============================] - 17s 50ms/step - loss: 0.0142 - accuracy: 0.9951\n",
            "Epoch 7/10\n",
            "329/329 [==============================] - 17s 50ms/step - loss: 0.0121 - accuracy: 0.9962\n",
            "Epoch 8/10\n",
            "329/329 [==============================] - 17s 51ms/step - loss: 0.0099 - accuracy: 0.9968\n",
            "Epoch 9/10\n",
            "329/329 [==============================] - 17s 50ms/step - loss: 0.0093 - accuracy: 0.9970\n",
            "Epoch 10/10\n",
            "329/329 [==============================] - 17s 51ms/step - loss: 0.0072 - accuracy: 0.9976\n"
          ]
        },
        {
          "output_type": "execute_result",
          "data": {
            "text/plain": [
              "<keras.callbacks.History at 0x7f6736362dd0>"
            ]
          },
          "metadata": {},
          "execution_count": 46
        }
      ]
    },
    {
      "cell_type": "code",
      "source": [
        "model14.fit(train_labels,test_labels,batch_size=128,epochs=10)"
      ],
      "metadata": {
        "colab": {
          "base_uri": "https://localhost:8080/"
        },
        "id": "jOF_22dqtMqM",
        "outputId": "4e1678bd-c3c5-4029-9e5c-046a35f4c35e"
      },
      "execution_count": null,
      "outputs": [
        {
          "output_type": "stream",
          "name": "stdout",
          "text": [
            "Epoch 1/10\n",
            "329/329 [==============================] - 19s 53ms/step - loss: 0.1718 - accuracy: 0.9440\n",
            "Epoch 2/10\n",
            "329/329 [==============================] - 18s 53ms/step - loss: 0.0450 - accuracy: 0.9860\n",
            "Epoch 3/10\n",
            "329/329 [==============================] - 17s 53ms/step - loss: 0.0300 - accuracy: 0.9907\n",
            "Epoch 4/10\n",
            "329/329 [==============================] - 17s 53ms/step - loss: 0.0225 - accuracy: 0.9930\n",
            "Epoch 5/10\n",
            "329/329 [==============================] - 18s 53ms/step - loss: 0.0165 - accuracy: 0.9951\n",
            "Epoch 6/10\n",
            "329/329 [==============================] - 18s 53ms/step - loss: 0.0137 - accuracy: 0.9959\n",
            "Epoch 7/10\n",
            "329/329 [==============================] - 18s 53ms/step - loss: 0.0109 - accuracy: 0.9967\n",
            "Epoch 8/10\n",
            "329/329 [==============================] - 17s 53ms/step - loss: 0.0107 - accuracy: 0.9966\n",
            "Epoch 9/10\n",
            "329/329 [==============================] - 17s 52ms/step - loss: 0.0086 - accuracy: 0.9974\n",
            "Epoch 10/10\n",
            "329/329 [==============================] - 17s 52ms/step - loss: 0.0070 - accuracy: 0.9979\n"
          ]
        },
        {
          "output_type": "execute_result",
          "data": {
            "text/plain": [
              "<keras.callbacks.History at 0x7f673598da50>"
            ]
          },
          "metadata": {},
          "execution_count": 47
        }
      ]
    },
    {
      "cell_type": "code",
      "source": [
        "model15.fit(train_labels,test_labels,batch_size=128,epochs=10)"
      ],
      "metadata": {
        "colab": {
          "base_uri": "https://localhost:8080/"
        },
        "id": "vqXAT7zmeMOV",
        "outputId": "8a53162b-ac85-4592-b0a1-5701e20d99fe"
      },
      "execution_count": null,
      "outputs": [
        {
          "output_type": "stream",
          "name": "stdout",
          "text": [
            "Epoch 1/10\n",
            "329/329 [==============================] - 6s 15ms/step - loss: 0.2127 - accuracy: 0.9335\n",
            "Epoch 2/10\n",
            "329/329 [==============================] - 5s 15ms/step - loss: 0.0540 - accuracy: 0.9831\n",
            "Epoch 3/10\n",
            "329/329 [==============================] - 5s 14ms/step - loss: 0.0387 - accuracy: 0.9880\n",
            "Epoch 4/10\n",
            "329/329 [==============================] - 5s 14ms/step - loss: 0.0291 - accuracy: 0.9909\n",
            "Epoch 5/10\n",
            "329/329 [==============================] - 5s 14ms/step - loss: 0.0230 - accuracy: 0.9931\n",
            "Epoch 6/10\n",
            "329/329 [==============================] - 5s 14ms/step - loss: 0.0200 - accuracy: 0.9936\n",
            "Epoch 7/10\n",
            "329/329 [==============================] - 5s 14ms/step - loss: 0.0152 - accuracy: 0.9953\n",
            "Epoch 8/10\n",
            "329/329 [==============================] - 5s 15ms/step - loss: 0.0131 - accuracy: 0.9959\n",
            "Epoch 9/10\n",
            "329/329 [==============================] - 5s 14ms/step - loss: 0.0113 - accuracy: 0.9967\n",
            "Epoch 10/10\n",
            "329/329 [==============================] - 5s 15ms/step - loss: 0.0094 - accuracy: 0.9970\n"
          ]
        },
        {
          "output_type": "execute_result",
          "data": {
            "text/plain": [
              "<keras.callbacks.History at 0x7f6736515f50>"
            ]
          },
          "metadata": {},
          "execution_count": 48
        }
      ]
    },
    {
      "cell_type": "code",
      "source": [
        "model16.fit(train_labels,test_labels,batch_size=128,epochs=10)"
      ],
      "metadata": {
        "colab": {
          "base_uri": "https://localhost:8080/"
        },
        "id": "qSPr2wjCeMES",
        "outputId": "27486da7-06c8-4be9-eb01-5029f52e5e1b"
      },
      "execution_count": null,
      "outputs": [
        {
          "output_type": "stream",
          "name": "stdout",
          "text": [
            "Epoch 1/10\n",
            "329/329 [==============================] - 7s 19ms/step - loss: 0.2098 - accuracy: 0.9349\n",
            "Epoch 2/10\n",
            "329/329 [==============================] - 6s 19ms/step - loss: 0.0500 - accuracy: 0.9837\n",
            "Epoch 3/10\n",
            "329/329 [==============================] - 6s 19ms/step - loss: 0.0340 - accuracy: 0.9895\n",
            "Epoch 4/10\n",
            "329/329 [==============================] - 6s 19ms/step - loss: 0.0251 - accuracy: 0.9927\n",
            "Epoch 5/10\n",
            "329/329 [==============================] - 6s 19ms/step - loss: 0.0193 - accuracy: 0.9943\n",
            "Epoch 6/10\n",
            "329/329 [==============================] - 6s 19ms/step - loss: 0.0167 - accuracy: 0.9946\n",
            "Epoch 7/10\n",
            "329/329 [==============================] - 6s 19ms/step - loss: 0.0128 - accuracy: 0.9960\n",
            "Epoch 8/10\n",
            "329/329 [==============================] - 6s 19ms/step - loss: 0.0110 - accuracy: 0.9968\n",
            "Epoch 9/10\n",
            "329/329 [==============================] - 6s 19ms/step - loss: 0.0098 - accuracy: 0.9970\n",
            "Epoch 10/10\n",
            "329/329 [==============================] - 6s 19ms/step - loss: 0.0081 - accuracy: 0.9972\n"
          ]
        },
        {
          "output_type": "execute_result",
          "data": {
            "text/plain": [
              "<keras.callbacks.History at 0x7f6735792310>"
            ]
          },
          "metadata": {},
          "execution_count": 49
        }
      ]
    },
    {
      "cell_type": "code",
      "source": [
        "model17.fit(train_labels,test_labels,batch_size=128,epochs=10)"
      ],
      "metadata": {
        "colab": {
          "base_uri": "https://localhost:8080/"
        },
        "id": "WKurkwWKeL5E",
        "outputId": "45a4765a-34ac-4820-ac51-ed600ee9f236"
      },
      "execution_count": null,
      "outputs": [
        {
          "output_type": "stream",
          "name": "stdout",
          "text": [
            "Epoch 1/10\n",
            "329/329 [==============================] - 10s 27ms/step - loss: 0.1796 - accuracy: 0.9427\n",
            "Epoch 2/10\n",
            "329/329 [==============================] - 9s 27ms/step - loss: 0.0475 - accuracy: 0.9849\n",
            "Epoch 3/10\n",
            "329/329 [==============================] - 9s 27ms/step - loss: 0.0325 - accuracy: 0.9897\n",
            "Epoch 4/10\n",
            "329/329 [==============================] - 9s 27ms/step - loss: 0.0246 - accuracy: 0.9925\n",
            "Epoch 5/10\n",
            "329/329 [==============================] - 9s 27ms/step - loss: 0.0175 - accuracy: 0.9945\n",
            "Epoch 6/10\n",
            "329/329 [==============================] - 9s 27ms/step - loss: 0.0152 - accuracy: 0.9953\n",
            "Epoch 7/10\n",
            "329/329 [==============================] - 9s 27ms/step - loss: 0.0122 - accuracy: 0.9961\n",
            "Epoch 8/10\n",
            "329/329 [==============================] - 9s 27ms/step - loss: 0.0103 - accuracy: 0.9966\n",
            "Epoch 9/10\n",
            "329/329 [==============================] - 9s 27ms/step - loss: 0.0081 - accuracy: 0.9974\n",
            "Epoch 10/10\n",
            "329/329 [==============================] - 9s 27ms/step - loss: 0.0081 - accuracy: 0.9976\n"
          ]
        },
        {
          "output_type": "execute_result",
          "data": {
            "text/plain": [
              "<keras.callbacks.History at 0x7f67355c9f90>"
            ]
          },
          "metadata": {},
          "execution_count": 50
        }
      ]
    },
    {
      "cell_type": "code",
      "source": [
        "model18.fit(train_labels,test_labels,batch_size=128,epochs=10)"
      ],
      "metadata": {
        "colab": {
          "base_uri": "https://localhost:8080/"
        },
        "id": "Q_Qlqw1seLtN",
        "outputId": "c0a10b4c-f59a-41e8-a50d-4ccf96601ba2"
      },
      "execution_count": null,
      "outputs": [
        {
          "output_type": "stream",
          "name": "stdout",
          "text": [
            "Epoch 1/10\n",
            "329/329 [==============================] - 13s 38ms/step - loss: 0.1832 - accuracy: 0.9430\n",
            "Epoch 2/10\n",
            "329/329 [==============================] - 12s 38ms/step - loss: 0.0455 - accuracy: 0.9861\n",
            "Epoch 3/10\n",
            "329/329 [==============================] - 12s 38ms/step - loss: 0.0300 - accuracy: 0.9906\n",
            "Epoch 4/10\n",
            "329/329 [==============================] - 12s 38ms/step - loss: 0.0220 - accuracy: 0.9936\n",
            "Epoch 5/10\n",
            "329/329 [==============================] - 12s 38ms/step - loss: 0.0168 - accuracy: 0.9949\n",
            "Epoch 6/10\n",
            "329/329 [==============================] - 12s 37ms/step - loss: 0.0126 - accuracy: 0.9958\n",
            "Epoch 7/10\n",
            "329/329 [==============================] - 12s 37ms/step - loss: 0.0114 - accuracy: 0.9964\n",
            "Epoch 8/10\n",
            "329/329 [==============================] - 12s 37ms/step - loss: 0.0094 - accuracy: 0.9969\n",
            "Epoch 9/10\n",
            "329/329 [==============================] - 12s 38ms/step - loss: 0.0086 - accuracy: 0.9974\n",
            "Epoch 10/10\n",
            "329/329 [==============================] - 12s 38ms/step - loss: 0.0066 - accuracy: 0.9981\n"
          ]
        },
        {
          "output_type": "execute_result",
          "data": {
            "text/plain": [
              "<keras.callbacks.History at 0x7f6732be8750>"
            ]
          },
          "metadata": {},
          "execution_count": 51
        }
      ]
    },
    {
      "cell_type": "code",
      "source": [
        "model19.fit(train_labels,test_labels,batch_size=128,epochs=10)"
      ],
      "metadata": {
        "colab": {
          "base_uri": "https://localhost:8080/"
        },
        "id": "c7z8l8m2eLMa",
        "outputId": "bf1bea18-7a6d-46f0-8eb7-0f9895ed5822"
      },
      "execution_count": null,
      "outputs": [
        {
          "output_type": "stream",
          "name": "stdout",
          "text": [
            "Epoch 1/10\n",
            "329/329 [==============================] - 19s 57ms/step - loss: 0.1789 - accuracy: 0.9444\n",
            "Epoch 2/10\n",
            "329/329 [==============================] - 19s 56ms/step - loss: 0.0442 - accuracy: 0.9860\n",
            "Epoch 3/10\n",
            "329/329 [==============================] - 18s 56ms/step - loss: 0.0305 - accuracy: 0.9903\n",
            "Epoch 4/10\n",
            "329/329 [==============================] - 18s 56ms/step - loss: 0.0229 - accuracy: 0.9926\n",
            "Epoch 5/10\n",
            "329/329 [==============================] - 18s 56ms/step - loss: 0.0175 - accuracy: 0.9946\n",
            "Epoch 6/10\n",
            "329/329 [==============================] - 18s 56ms/step - loss: 0.0146 - accuracy: 0.9955\n",
            "Epoch 7/10\n",
            "329/329 [==============================] - 18s 56ms/step - loss: 0.0113 - accuracy: 0.9963\n",
            "Epoch 8/10\n",
            "329/329 [==============================] - 18s 56ms/step - loss: 0.0107 - accuracy: 0.9969\n",
            "Epoch 9/10\n",
            "329/329 [==============================] - 18s 56ms/step - loss: 0.0084 - accuracy: 0.9972\n",
            "Epoch 10/10\n",
            "329/329 [==============================] - 18s 56ms/step - loss: 0.0076 - accuracy: 0.9975\n"
          ]
        },
        {
          "output_type": "execute_result",
          "data": {
            "text/plain": [
              "<keras.callbacks.History at 0x7f6732224110>"
            ]
          },
          "metadata": {},
          "execution_count": 52
        }
      ]
    },
    {
      "cell_type": "code",
      "source": [
        "model20.fit(train_labels,test_labels,batch_size=128,epochs=10)"
      ],
      "metadata": {
        "colab": {
          "base_uri": "https://localhost:8080/"
        },
        "id": "FLFT-dFaeKjo",
        "outputId": "67045488-39e1-4616-8a10-25f20aaf0b93"
      },
      "execution_count": null,
      "outputs": [
        {
          "output_type": "stream",
          "name": "stdout",
          "text": [
            "Epoch 1/10\n",
            "329/329 [==============================] - 29s 85ms/step - loss: 0.1787 - accuracy: 0.9467\n",
            "Epoch 2/10\n",
            "329/329 [==============================] - 28s 85ms/step - loss: 0.0457 - accuracy: 0.9866\n",
            "Epoch 3/10\n",
            "329/329 [==============================] - 28s 85ms/step - loss: 0.0297 - accuracy: 0.9910\n",
            "Epoch 4/10\n",
            "329/329 [==============================] - 28s 84ms/step - loss: 0.0221 - accuracy: 0.9933\n",
            "Epoch 5/10\n",
            "329/329 [==============================] - 28s 85ms/step - loss: 0.0163 - accuracy: 0.9952\n",
            "Epoch 6/10\n",
            "329/329 [==============================] - 28s 84ms/step - loss: 0.0133 - accuracy: 0.9956\n",
            "Epoch 7/10\n",
            "329/329 [==============================] - 28s 84ms/step - loss: 0.0113 - accuracy: 0.9960\n",
            "Epoch 8/10\n",
            "329/329 [==============================] - 28s 84ms/step - loss: 0.0097 - accuracy: 0.9970\n",
            "Epoch 9/10\n",
            "329/329 [==============================] - 28s 84ms/step - loss: 0.0080 - accuracy: 0.9975\n",
            "Epoch 10/10\n",
            "329/329 [==============================] - 28s 84ms/step - loss: 0.0069 - accuracy: 0.9982\n"
          ]
        },
        {
          "output_type": "execute_result",
          "data": {
            "text/plain": [
              "<keras.callbacks.History at 0x7f6732063610>"
            ]
          },
          "metadata": {},
          "execution_count": 53
        }
      ]
    },
    {
      "cell_type": "code",
      "source": [
        "model21.fit(train_labels,test_labels,batch_size=128,epochs=10)"
      ],
      "metadata": {
        "colab": {
          "base_uri": "https://localhost:8080/"
        },
        "id": "2ojSJJIqqtwK",
        "outputId": "91b86da3-2a3f-4fc6-fd83-135cf05228d1"
      },
      "execution_count": null,
      "outputs": [
        {
          "output_type": "stream",
          "name": "stdout",
          "text": [
            "Epoch 1/10\n",
            "329/329 [==============================] - 8s 22ms/step - loss: 0.1948 - accuracy: 0.9383\n",
            "Epoch 2/10\n",
            "329/329 [==============================] - 7s 22ms/step - loss: 0.0482 - accuracy: 0.9848\n",
            "Epoch 3/10\n",
            "329/329 [==============================] - 7s 22ms/step - loss: 0.0337 - accuracy: 0.9892\n",
            "Epoch 4/10\n",
            "329/329 [==============================] - 7s 22ms/step - loss: 0.0250 - accuracy: 0.9919\n",
            "Epoch 5/10\n",
            "329/329 [==============================] - 7s 22ms/step - loss: 0.0189 - accuracy: 0.9943\n",
            "Epoch 6/10\n",
            "329/329 [==============================] - 7s 22ms/step - loss: 0.0160 - accuracy: 0.9948\n",
            "Epoch 7/10\n",
            "329/329 [==============================] - 7s 22ms/step - loss: 0.0114 - accuracy: 0.9966\n",
            "Epoch 8/10\n",
            "329/329 [==============================] - 7s 22ms/step - loss: 0.0104 - accuracy: 0.9966\n",
            "Epoch 9/10\n",
            "329/329 [==============================] - 7s 22ms/step - loss: 0.0084 - accuracy: 0.9971\n",
            "Epoch 10/10\n",
            "329/329 [==============================] - 7s 22ms/step - loss: 0.0069 - accuracy: 0.9978\n"
          ]
        },
        {
          "output_type": "execute_result",
          "data": {
            "text/plain": [
              "<keras.callbacks.History at 0x7f6731ea2dd0>"
            ]
          },
          "metadata": {},
          "execution_count": 54
        }
      ]
    },
    {
      "cell_type": "code",
      "source": [
        "model22.fit(train_labels,test_labels,batch_size=128,epochs=10)"
      ],
      "metadata": {
        "colab": {
          "base_uri": "https://localhost:8080/"
        },
        "id": "kE9GfLXeqtll",
        "outputId": "ab0bb895-a6d0-4690-e69f-22e3c47f3a98"
      },
      "execution_count": null,
      "outputs": [
        {
          "output_type": "stream",
          "name": "stdout",
          "text": [
            "Epoch 1/10\n",
            "329/329 [==============================] - 9s 25ms/step - loss: 0.1725 - accuracy: 0.9437\n",
            "Epoch 2/10\n",
            "329/329 [==============================] - 8s 24ms/step - loss: 0.0470 - accuracy: 0.9849\n",
            "Epoch 3/10\n",
            "329/329 [==============================] - 8s 24ms/step - loss: 0.0326 - accuracy: 0.9896\n",
            "Epoch 4/10\n",
            "329/329 [==============================] - 8s 24ms/step - loss: 0.0235 - accuracy: 0.9917\n",
            "Epoch 5/10\n",
            "329/329 [==============================] - 8s 24ms/step - loss: 0.0176 - accuracy: 0.9945\n",
            "Epoch 6/10\n",
            "329/329 [==============================] - 8s 24ms/step - loss: 0.0144 - accuracy: 0.9956\n",
            "Epoch 7/10\n",
            "329/329 [==============================] - 8s 24ms/step - loss: 0.0116 - accuracy: 0.9965\n",
            "Epoch 8/10\n",
            "329/329 [==============================] - 8s 24ms/step - loss: 0.0096 - accuracy: 0.9969\n",
            "Epoch 9/10\n",
            "329/329 [==============================] - 8s 24ms/step - loss: 0.0075 - accuracy: 0.9974\n",
            "Epoch 10/10\n",
            "329/329 [==============================] - 8s 24ms/step - loss: 0.0064 - accuracy: 0.9981\n"
          ]
        },
        {
          "output_type": "execute_result",
          "data": {
            "text/plain": [
              "<keras.callbacks.History at 0x7f67304e3290>"
            ]
          },
          "metadata": {},
          "execution_count": 55
        }
      ]
    },
    {
      "cell_type": "code",
      "source": [
        "model23.fit(train_labels,test_labels,batch_size=128,epochs=10)"
      ],
      "metadata": {
        "colab": {
          "base_uri": "https://localhost:8080/"
        },
        "id": "MAfVpHsxqtZ_",
        "outputId": "d0be1338-29f0-416a-f23f-480f9e404a10"
      },
      "execution_count": null,
      "outputs": [
        {
          "output_type": "stream",
          "name": "stdout",
          "text": [
            "Epoch 1/10\n",
            "329/329 [==============================] - 10s 28ms/step - loss: 0.1717 - accuracy: 0.9472\n",
            "Epoch 2/10\n",
            "329/329 [==============================] - 9s 28ms/step - loss: 0.0451 - accuracy: 0.9860\n",
            "Epoch 3/10\n",
            "329/329 [==============================] - 9s 28ms/step - loss: 0.0308 - accuracy: 0.9906\n",
            "Epoch 4/10\n",
            "329/329 [==============================] - 9s 28ms/step - loss: 0.0220 - accuracy: 0.9927\n",
            "Epoch 5/10\n",
            "329/329 [==============================] - 9s 28ms/step - loss: 0.0169 - accuracy: 0.9945\n",
            "Epoch 6/10\n",
            "329/329 [==============================] - 9s 28ms/step - loss: 0.0139 - accuracy: 0.9955\n",
            "Epoch 7/10\n",
            "329/329 [==============================] - 9s 28ms/step - loss: 0.0115 - accuracy: 0.9965\n",
            "Epoch 8/10\n",
            "329/329 [==============================] - 9s 28ms/step - loss: 0.0080 - accuracy: 0.9974\n",
            "Epoch 9/10\n",
            "329/329 [==============================] - 9s 28ms/step - loss: 0.0082 - accuracy: 0.9977\n",
            "Epoch 10/10\n",
            "329/329 [==============================] - 9s 28ms/step - loss: 0.0070 - accuracy: 0.9978\n"
          ]
        },
        {
          "output_type": "execute_result",
          "data": {
            "text/plain": [
              "<keras.callbacks.History at 0x7f673039a2d0>"
            ]
          },
          "metadata": {},
          "execution_count": 56
        }
      ]
    },
    {
      "cell_type": "code",
      "source": [
        "model24.fit(train_labels,test_labels,batch_size=128,epochs=10)"
      ],
      "metadata": {
        "colab": {
          "base_uri": "https://localhost:8080/"
        },
        "id": "pcAqRpHbqtNp",
        "outputId": "31737c58-6a54-4f86-ea60-c87c537340c7"
      },
      "execution_count": null,
      "outputs": [
        {
          "output_type": "stream",
          "name": "stdout",
          "text": [
            "Epoch 1/10\n",
            "329/329 [==============================] - 18s 50ms/step - loss: 0.2033 - accuracy: 0.9378\n",
            "Epoch 2/10\n",
            "329/329 [==============================] - 16s 49ms/step - loss: 0.0487 - accuracy: 0.9850\n",
            "Epoch 3/10\n",
            "329/329 [==============================] - 16s 49ms/step - loss: 0.0312 - accuracy: 0.9903\n",
            "Epoch 4/10\n",
            "329/329 [==============================] - 16s 49ms/step - loss: 0.0231 - accuracy: 0.9929\n",
            "Epoch 5/10\n",
            "329/329 [==============================] - 16s 49ms/step - loss: 0.0173 - accuracy: 0.9943\n",
            "Epoch 6/10\n",
            "329/329 [==============================] - 16s 49ms/step - loss: 0.0138 - accuracy: 0.9962\n",
            "Epoch 7/10\n",
            "329/329 [==============================] - 16s 49ms/step - loss: 0.0106 - accuracy: 0.9966\n",
            "Epoch 8/10\n",
            "329/329 [==============================] - 16s 49ms/step - loss: 0.0094 - accuracy: 0.9970\n",
            "Epoch 9/10\n",
            "329/329 [==============================] - 16s 50ms/step - loss: 0.0081 - accuracy: 0.9975\n",
            "Epoch 10/10\n",
            "329/329 [==============================] - 16s 50ms/step - loss: 0.0068 - accuracy: 0.9979\n"
          ]
        },
        {
          "output_type": "execute_result",
          "data": {
            "text/plain": [
              "<keras.callbacks.History at 0x7f672f9d5310>"
            ]
          },
          "metadata": {},
          "execution_count": 57
        }
      ]
    },
    {
      "cell_type": "code",
      "source": [
        "model25.fit(train_labels,test_labels,batch_size=128,epochs=10)"
      ],
      "metadata": {
        "colab": {
          "base_uri": "https://localhost:8080/"
        },
        "id": "ywRTz6GAqtAc",
        "outputId": "63e3da9d-3106-4b6f-a652-69be3cd9e7b7"
      },
      "execution_count": null,
      "outputs": [
        {
          "output_type": "stream",
          "name": "stdout",
          "text": [
            "Epoch 1/10\n",
            "329/329 [==============================] - 19s 54ms/step - loss: 0.1899 - accuracy: 0.9418\n",
            "Epoch 2/10\n",
            "329/329 [==============================] - 18s 55ms/step - loss: 0.0440 - accuracy: 0.9865\n",
            "Epoch 3/10\n",
            "329/329 [==============================] - 18s 55ms/step - loss: 0.0314 - accuracy: 0.9901\n",
            "Epoch 4/10\n",
            "329/329 [==============================] - 18s 55ms/step - loss: 0.0222 - accuracy: 0.9934\n",
            "Epoch 5/10\n",
            "329/329 [==============================] - 18s 54ms/step - loss: 0.0178 - accuracy: 0.9944\n",
            "Epoch 6/10\n",
            "329/329 [==============================] - 18s 54ms/step - loss: 0.0140 - accuracy: 0.9958\n",
            "Epoch 7/10\n",
            "329/329 [==============================] - 18s 54ms/step - loss: 0.0104 - accuracy: 0.9968\n",
            "Epoch 8/10\n",
            "329/329 [==============================] - 18s 53ms/step - loss: 0.0088 - accuracy: 0.9974\n",
            "Epoch 9/10\n",
            "329/329 [==============================] - 18s 53ms/step - loss: 0.0078 - accuracy: 0.9972\n",
            "Epoch 10/10\n",
            "329/329 [==============================] - 18s 54ms/step - loss: 0.0069 - accuracy: 0.9979\n"
          ]
        },
        {
          "output_type": "execute_result",
          "data": {
            "text/plain": [
              "<keras.callbacks.History at 0x7f672f814dd0>"
            ]
          },
          "metadata": {},
          "execution_count": 58
        }
      ]
    },
    {
      "cell_type": "code",
      "source": [
        "model26.fit(train_labels,test_labels,batch_size=128,epochs=10)"
      ],
      "metadata": {
        "colab": {
          "base_uri": "https://localhost:8080/"
        },
        "id": "vmXxPea-qsci",
        "outputId": "9d9a98b4-2847-4c63-bcb8-2bb515141c0a"
      },
      "execution_count": null,
      "outputs": [
        {
          "output_type": "stream",
          "name": "stdout",
          "text": [
            "Epoch 1/10\n",
            "329/329 [==============================] - 21s 62ms/step - loss: 0.1804 - accuracy: 0.9456\n",
            "Epoch 2/10\n",
            "329/329 [==============================] - 20s 60ms/step - loss: 0.0443 - accuracy: 0.9864\n",
            "Epoch 3/10\n",
            "329/329 [==============================] - 20s 60ms/step - loss: 0.0296 - accuracy: 0.9905\n",
            "Epoch 4/10\n",
            "329/329 [==============================] - 20s 60ms/step - loss: 0.0217 - accuracy: 0.9926\n",
            "Epoch 5/10\n",
            "329/329 [==============================] - 20s 60ms/step - loss: 0.0167 - accuracy: 0.9950\n",
            "Epoch 6/10\n",
            "329/329 [==============================] - 20s 61ms/step - loss: 0.0127 - accuracy: 0.9964\n",
            "Epoch 7/10\n",
            "329/329 [==============================] - 20s 60ms/step - loss: 0.0102 - accuracy: 0.9970\n",
            "Epoch 8/10\n",
            "329/329 [==============================] - 20s 60ms/step - loss: 0.0095 - accuracy: 0.9971\n",
            "Epoch 9/10\n",
            "329/329 [==============================] - 20s 60ms/step - loss: 0.0074 - accuracy: 0.9975\n",
            "Epoch 10/10\n",
            "329/329 [==============================] - 20s 60ms/step - loss: 0.0066 - accuracy: 0.9979\n"
          ]
        },
        {
          "output_type": "execute_result",
          "data": {
            "text/plain": [
              "<keras.callbacks.History at 0x7f672f64e210>"
            ]
          },
          "metadata": {},
          "execution_count": 59
        }
      ]
    },
    {
      "cell_type": "code",
      "source": [
        "predictions = (model1.predict(test_set)+model2.predict(test_set)+model3.predict(test_set)+model4.predict(test_set)+model5.predict(test_set)+model6.predict(test_set)+model7.predict(test_set)+model8.predict(test_set)+model9.predict(test_set)+model10.predict(test_set)+model11.predict(test_set)+model12.predict(test_set)+model13.predict(test_set)+model14.predict(test_set)+model15.predict(test_set)+model16.predict(test_set)+model17.predict(test_set)+model18.predict(test_set)+model19.predict(test_set)+model20.predict(test_set)+model21.predict(test_set)+model22.predict(test_set)+model23.predict(test_set)+model24.predict(test_set)+model25.predict(test_set)+model26.predict(test_set))/26"
      ],
      "metadata": {
        "id": "cM27bLZQghq7"
      },
      "execution_count": null,
      "outputs": []
    },
    {
      "cell_type": "code",
      "source": [
        "predicted_val=np.argmax(predictions,1)\n",
        "predictions_df=pd.DataFrame(predicted_val,columns=['Label'])\n",
        "ImageID_set=pd.read_csv('sample_submission.csv')\n",
        "predictions_df[\"ImageId\"]=ImageID_set[\"ImageId\"]\n",
        "predictions_df = predictions_df[[\"ImageId\",\"Label\"]]\n",
        "predictions_df.to_csv(\"submission.csv\", index=False)"
      ],
      "metadata": {
        "id": "tYtjLI5RgwGD"
      },
      "execution_count": null,
      "outputs": []
    }
  ]
}